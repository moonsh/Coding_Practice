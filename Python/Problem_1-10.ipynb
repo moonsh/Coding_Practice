{
 "cells": [
  {
   "cell_type": "markdown",
   "id": "96d31f66-13a2-4037-bfa9-c6f9793f35b5",
   "metadata": {},
   "source": [
    "1. Two Sum"
   ]
  },
  {
   "cell_type": "markdown",
   "id": "2589efb6-e8e8-40e6-8c0b-d97d8f655c8c",
   "metadata": {},
   "source": [
    "My solution "
   ]
  },
  {
   "cell_type": "code",
   "execution_count": 1,
   "id": "5c3d2494-92f8-424c-87a9-6b36dff0e4ab",
   "metadata": {},
   "outputs": [
    {
     "name": "stdout",
     "output_type": "stream",
     "text": [
      "[0, 1]\n"
     ]
    }
   ],
   "source": [
    "class Solution:\n",
    "    def twoSum(self, nums, target):       \n",
    "        found_target = False        \n",
    "        for i in range(len(nums)):\n",
    "            list_n =[]        \n",
    "            sum = nums[i]\n",
    "            list_n.append(i)\n",
    "            for j in range(i+1,len(nums)):\n",
    "                sum = sum + nums[j]\n",
    "                if sum == target:\n",
    "                    list_n.append(j)\n",
    "                    found_target = True\n",
    "                    break\n",
    "                else:\n",
    "                    sum = nums[i]            \n",
    "            if found_target:\n",
    "                    break\n",
    "        \n",
    "        return list_n\n",
    "\n",
    "x = Solution()\n",
    "output = x.twoSum([2,7,11,15], 9 )\n",
    "print(output)\n"
   ]
  },
  {
   "cell_type": "markdown",
   "id": "838d31f9-38b3-4fa9-a9ac-297cd28b7459",
   "metadata": {},
   "source": [
    "Best Solution"
   ]
  },
  {
   "cell_type": "code",
   "execution_count": 2,
   "id": "a5c70a33-50be-4efa-aefd-094bfff4a892",
   "metadata": {},
   "outputs": [],
   "source": [
    "class Solution:\n",
    "    def twoSum(self, nums, target):\n",
    "        \"\"\"\n",
    "        :type nums: List[int]\n",
    "        :type target: int\n",
    "        :rtype: List[int]\n",
    "        \"\"\"\n",
    "        h = {}\n",
    "        for i, num in enumerate(nums):\n",
    "            n = target - num\n",
    "            if n not in h:\n",
    "                h[num] = i\n",
    "            else:\n",
    "                return [h[n], i]"
   ]
  },
  {
   "cell_type": "markdown",
   "id": "bf28bc58-e7fb-443e-a8fc-53041e7f5f9b",
   "metadata": {},
   "source": [
    "7. Reverse Integer"
   ]
  },
  {
   "cell_type": "code",
   "execution_count": 38,
   "id": "bcd299ea-fe23-42a2-9a28-46e573723839",
   "metadata": {},
   "outputs": [],
   "source": [
    "class Solution:\n",
    "    def reverse(self, x: int):\n",
    "        a = str(x)\n",
    "        new=\"\"\n",
    "        negative =False\n",
    "        j = 1 if a[0]== \"-\" else 0\n",
    "        if a[0]==\"-\":\n",
    "            negative = True\n",
    "                        \n",
    "        for i in range(j,len(a)):\n",
    "            new = a[i]+ str(new)\n",
    "        \n",
    "        if negative:\n",
    "            new = \"-\"+new\n",
    "\n",
    "        if(abs(int(new)) > 2 ** 31):\n",
    "            return 0\n",
    "            \n",
    "        return int(new)"
   ]
  },
  {
   "cell_type": "code",
   "execution_count": 40,
   "id": "32ef8f1e-d12e-4fc4-a904-fd22e2a5aecb",
   "metadata": {},
   "outputs": [
    {
     "name": "stdout",
     "output_type": "stream",
     "text": [
      "1534236469\n",
      "9646324351\n"
     ]
    },
    {
     "data": {
      "text/plain": [
       "2147483648"
      ]
     },
     "execution_count": 40,
     "metadata": {},
     "output_type": "execute_result"
    }
   ],
   "source": [
    "x = Solution()\n",
    "output = x.reverse(1534236469)\n",
    "print(output)\n",
    "2 ** 31"
   ]
  },
  {
   "cell_type": "markdown",
   "id": "bc8bafe4-812e-4f87-819d-4ea51afadef3",
   "metadata": {},
   "source": [
    "Best Solution"
   ]
  },
  {
   "cell_type": "code",
   "execution_count": 41,
   "id": "bbe6f124-ccee-40a7-b3e0-a6edfb632bbb",
   "metadata": {},
   "outputs": [],
   "source": [
    "class Solution:\n",
    "    def reverse(self, x: int):\n",
    "        if x >= 2**31-1 or x <= -2**31: return 0\n",
    "        else:\n",
    "            strg = str(x)\n",
    "            if x >= 0 :\n",
    "                revst = strg[::-1]\n",
    "            else:\n",
    "                temp = strg[1:] \n",
    "                temp2 = temp[::-1] \n",
    "                revst = \"-\" + temp2\n",
    "            if int(revst) >= 2**31-1 or int(revst) <= -2**31: return 0\n",
    "            else: return int(revst)"
   ]
  },
  {
   "cell_type": "code",
   "execution_count": null,
   "id": "3cb5e28d-53a2-4ae0-abaf-0cf1e587b055",
   "metadata": {},
   "outputs": [],
   "source": []
  }
 ],
 "metadata": {
  "kernelspec": {
   "display_name": "Python 3",
   "language": "python",
   "name": "python3"
  },
  "language_info": {
   "codemirror_mode": {
    "name": "ipython",
    "version": 3
   },
   "file_extension": ".py",
   "mimetype": "text/x-python",
   "name": "python",
   "nbconvert_exporter": "python",
   "pygments_lexer": "ipython3",
   "version": "3.7.10"
  },
  "toc-autonumbering": false,
  "toc-showcode": true,
  "toc-showmarkdowntxt": false
 },
 "nbformat": 4,
 "nbformat_minor": 5
}
