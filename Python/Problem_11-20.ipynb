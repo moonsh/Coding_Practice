{
 "cells": [
  {
   "cell_type": "markdown",
   "id": "07858b08-567f-45e5-a01f-3d5a3e4cf96d",
   "metadata": {},
   "source": [
    "28. Implement strStr()\n",
    "\n"
   ]
  },
  {
   "cell_type": "code",
   "execution_count": 3,
   "id": "103187f3-2693-4bda-aa51-1b6e76ebbe88",
   "metadata": {},
   "outputs": [],
   "source": [
    "class Solution:\n",
    "    def strStr(self, haystack: str, needle: str):\n",
    "        if needle == \"\":\n",
    "            return 0\n",
    "        if needle in haystack:\n",
    "            t = haystack.split(needle)\n",
    "            return len(t[0])\n",
    "        else:\n",
    "            return -1"
   ]
  },
  {
   "cell_type": "markdown",
   "id": "7bc6c0f4-354e-40b1-a019-d097d5ec1c26",
   "metadata": {},
   "source": [
    "67. Add Binary\n"
   ]
  },
  {
   "cell_type": "code",
   "execution_count": 4,
   "id": "19773dee-bede-4de1-b0b6-a35f80af2b4d",
   "metadata": {},
   "outputs": [],
   "source": [
    "class Solution:\n",
    "    def addBinary(self, a: str, b: str):\n",
    "        c = int(a) + int(b)\n",
    "        c = [int(d) for d in str(c)][::-1]\n",
    "        c.append(0) \n",
    "\n",
    "        for i in range(0, len(c)-1):\n",
    "            if c[i] > 1:\n",
    "                c[i+1]+=1\n",
    "                c[i] = 0 if c[i] == 2 else 1\n",
    "        \n",
    "        if c[-1] == 0:\n",
    "            c.pop()\n",
    "\n",
    "        return \"\".join(map(str, c[::-1]))"
   ]
  },
  {
   "cell_type": "code",
   "execution_count": null,
   "id": "17a89ee0-3229-43fe-847e-aa2b119de96a",
   "metadata": {},
   "outputs": [],
   "source": []
  }
 ],
 "metadata": {
  "kernelspec": {
   "display_name": "Python 3",
   "language": "python",
   "name": "python3"
  },
  "language_info": {
   "codemirror_mode": {
    "name": "ipython",
    "version": 3
   },
   "file_extension": ".py",
   "mimetype": "text/x-python",
   "name": "python",
   "nbconvert_exporter": "python",
   "pygments_lexer": "ipython3",
   "version": "3.7.10"
  }
 },
 "nbformat": 4,
 "nbformat_minor": 5
}
