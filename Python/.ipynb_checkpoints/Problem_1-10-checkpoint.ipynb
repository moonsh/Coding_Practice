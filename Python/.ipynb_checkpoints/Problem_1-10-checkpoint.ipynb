{
 "cells": [
  {
   "cell_type": "markdown",
   "id": "96d31f66-13a2-4037-bfa9-c6f9793f35b5",
   "metadata": {},
   "source": [
    "1. Two Sum"
   ]
  },
  {
   "cell_type": "markdown",
   "id": "2589efb6-e8e8-40e6-8c0b-d97d8f655c8c",
   "metadata": {},
   "source": [
    "My solution "
   ]
  },
  {
   "cell_type": "code",
   "execution_count": 19,
   "id": "5c3d2494-92f8-424c-87a9-6b36dff0e4ab",
   "metadata": {},
   "outputs": [
    {
     "name": "stdout",
     "output_type": "stream",
     "text": [
      "[0, 1]\n"
     ]
    }
   ],
   "source": [
    "class Solution:\n",
    "    def twoSum(self, nums, target):       \n",
    "        found_target = False        \n",
    "        for i in range(len(nums)):\n",
    "            list_n =[]        \n",
    "            sum = nums[i]\n",
    "            list_n.append(i)\n",
    "            for j in range(i+1,len(nums)):\n",
    "                sum = sum + nums[j]\n",
    "                if sum == target:\n",
    "                    list_n.append(j)\n",
    "                    found_target = True\n",
    "                    break\n",
    "                else:\n",
    "                    sum = nums[i]            \n",
    "            if found_target:\n",
    "                    break\n",
    "        \n",
    "        return list_n\n",
    "\n",
    "x = Solution()\n",
    "output = x.twoSum([2,7,11,15], 9 )\n",
    "print(output)\n"
   ]
  },
  {
   "cell_type": "markdown",
   "id": "838d31f9-38b3-4fa9-a9ac-297cd28b7459",
   "metadata": {},
   "source": [
    "Best Solution"
   ]
  },
  {
   "cell_type": "code",
   "execution_count": 20,
   "id": "a5c70a33-50be-4efa-aefd-094bfff4a892",
   "metadata": {},
   "outputs": [],
   "source": [
    "class Solution:\n",
    "    def twoSum(self, nums, target):\n",
    "        \"\"\"\n",
    "        :type nums: List[int]\n",
    "        :type target: int\n",
    "        :rtype: List[int]\n",
    "        \"\"\"\n",
    "        h = {}\n",
    "        for i, num in enumerate(nums):\n",
    "            n = target - num\n",
    "            if n not in h:\n",
    "                h[num] = i\n",
    "            else:\n",
    "                return [h[n], i]"
   ]
  },
  {
   "cell_type": "code",
   "execution_count": null,
   "id": "7dee3e35-3850-41d1-a9f1-9cdcd3c5fa67",
   "metadata": {},
   "outputs": [],
   "source": []
  }
 ],
 "metadata": {
  "kernelspec": {
   "display_name": "Python 3",
   "language": "python",
   "name": "python3"
  },
  "language_info": {
   "codemirror_mode": {
    "name": "ipython",
    "version": 3
   },
   "file_extension": ".py",
   "mimetype": "text/x-python",
   "name": "python",
   "nbconvert_exporter": "python",
   "pygments_lexer": "ipython3",
   "version": "3.7.10"
  },
  "toc-autonumbering": false,
  "toc-showcode": true,
  "toc-showmarkdowntxt": false
 },
 "nbformat": 4,
 "nbformat_minor": 5
}
