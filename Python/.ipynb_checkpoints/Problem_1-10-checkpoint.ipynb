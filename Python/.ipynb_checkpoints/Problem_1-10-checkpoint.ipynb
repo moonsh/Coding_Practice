{
 "cells": [
  {
   "cell_type": "markdown",
   "id": "96d31f66-13a2-4037-bfa9-c6f9793f35b5",
   "metadata": {},
   "source": [
    "1. Two Sum"
   ]
  },
  {
   "cell_type": "markdown",
   "id": "2589efb6-e8e8-40e6-8c0b-d97d8f655c8c",
   "metadata": {},
   "source": [
    "My solution "
   ]
  },
  {
   "cell_type": "code",
   "execution_count": 1,
   "id": "5c3d2494-92f8-424c-87a9-6b36dff0e4ab",
   "metadata": {},
   "outputs": [
    {
     "name": "stdout",
     "output_type": "stream",
     "text": [
      "[0, 1]\n"
     ]
    }
   ],
   "source": [
    "class Solution:\n",
    "    def twoSum(self, nums, target):       \n",
    "        found_target = False        \n",
    "        for i in range(len(nums)):\n",
    "            list_n =[]        \n",
    "            sum = nums[i]\n",
    "            list_n.append(i)\n",
    "            for j in range(i+1,len(nums)):\n",
    "                sum = sum + nums[j]\n",
    "                if sum == target:\n",
    "                    list_n.append(j)\n",
    "                    found_target = True\n",
    "                    break\n",
    "                else:\n",
    "                    sum = nums[i]            \n",
    "            if found_target:\n",
    "                    break\n",
    "        \n",
    "        return list_n\n",
    "\n",
    "x = Solution()\n",
    "output = x.twoSum([2,7,11,15], 9 )\n",
    "print(output)\n"
   ]
  },
  {
   "cell_type": "markdown",
   "id": "838d31f9-38b3-4fa9-a9ac-297cd28b7459",
   "metadata": {},
   "source": [
    "Best Solution"
   ]
  },
  {
   "cell_type": "code",
   "execution_count": 2,
   "id": "a5c70a33-50be-4efa-aefd-094bfff4a892",
   "metadata": {},
   "outputs": [],
   "source": [
    "class Solution:\n",
    "    def twoSum(self, nums, target):\n",
    "        \"\"\"\n",
    "        :type nums: List[int]\n",
    "        :type target: int\n",
    "        :rtype: List[int]\n",
    "        \"\"\"\n",
    "        h = {}\n",
    "        for i, num in enumerate(nums):\n",
    "            n = target - num\n",
    "            if n not in h:\n",
    "                h[num] = i\n",
    "            else:\n",
    "                return [h[n], i]"
   ]
  },
  {
   "cell_type": "markdown",
   "id": "bf28bc58-e7fb-443e-a8fc-53041e7f5f9b",
   "metadata": {},
   "source": [
    "7. Reverse Integer "
   ]
  },
  {
   "cell_type": "code",
   "execution_count": 3,
   "id": "bcd299ea-fe23-42a2-9a28-46e573723839",
   "metadata": {},
   "outputs": [],
   "source": [
    "class Solution:\n",
    "    def reverse(self, x: int):\n",
    "        a = str(x)\n",
    "        new=\"\"\n",
    "        negative =False\n",
    "        j = 1 if a[0]== \"-\" else 0\n",
    "        if a[0]==\"-\":\n",
    "            negative = True\n",
    "                        \n",
    "        for i in range(j,len(a)):\n",
    "            new = a[i]+ str(new)\n",
    "        \n",
    "        if negative:\n",
    "            new = \"-\"+new\n",
    "\n",
    "        if(abs(int(new)) > 2 ** 31):\n",
    "            return 0\n",
    "            \n",
    "        return int(new)"
   ]
  },
  {
   "cell_type": "code",
   "execution_count": 4,
   "id": "32ef8f1e-d12e-4fc4-a904-fd22e2a5aecb",
   "metadata": {},
   "outputs": [
    {
     "name": "stdout",
     "output_type": "stream",
     "text": [
      "0\n"
     ]
    },
    {
     "data": {
      "text/plain": [
       "2147483648"
      ]
     },
     "execution_count": 4,
     "metadata": {},
     "output_type": "execute_result"
    }
   ],
   "source": [
    "x = Solution()\n",
    "output = x.reverse(1534236469)\n",
    "print(output)\n",
    "2 ** 31"
   ]
  },
  {
   "cell_type": "markdown",
   "id": "bc8bafe4-812e-4f87-819d-4ea51afadef3",
   "metadata": {},
   "source": [
    "Best Solution"
   ]
  },
  {
   "cell_type": "code",
   "execution_count": 5,
   "id": "bbe6f124-ccee-40a7-b3e0-a6edfb632bbb",
   "metadata": {},
   "outputs": [],
   "source": [
    "class Solution:\n",
    "    def reverse(self, x: int):\n",
    "        if x >= 2**31-1 or x <= -2**31: return 0\n",
    "        else:\n",
    "            strg = str(x)\n",
    "            if x >= 0 :\n",
    "                revst = strg[::-1]\n",
    "            else:\n",
    "                temp = strg[1:] \n",
    "                temp2 = temp[::-1] \n",
    "                revst = \"-\" + temp2\n",
    "            if int(revst) >= 2**31-1 or int(revst) <= -2**31: return 0\n",
    "            else: return int(revst)"
   ]
  },
  {
   "cell_type": "markdown",
   "id": "361fd297-8107-4ba4-a26d-34fd0bba0a8e",
   "metadata": {},
   "source": [
    "9. Palindrome Number\n",
    "My Solution"
   ]
  },
  {
   "cell_type": "code",
   "execution_count": 6,
   "id": "99af671b-430a-45ec-b9ea-46e2e836c7ca",
   "metadata": {},
   "outputs": [],
   "source": [
    "class Solution:\n",
    "    def isPalindrome(self, x: int) -> bool:\n",
    "        a = str(x)       \n",
    "        if a[0]==\"-\":\n",
    "            return False\n",
    "        new =\"\"\n",
    "        for i in range(len(a)):\n",
    "            new = a[i] + new\n",
    "            \n",
    "    \n",
    "        if int(new)==x:\n",
    "            return True\n",
    "        else:\n",
    "            return False\n",
    "            "
   ]
  },
  {
   "cell_type": "markdown",
   "id": "046867aa-1349-4c30-bf27-80de519b1868",
   "metadata": {},
   "source": [
    "14. Longest Common Prefix"
   ]
  },
  {
   "cell_type": "code",
   "execution_count": 7,
   "id": "1feae796-c0e1-4dd7-b4bb-9166682f9b4b",
   "metadata": {},
   "outputs": [],
   "source": [
    "class Solution:\n",
    "    def longestCommonPrefix(self, strs) -> str:        \n",
    "        for i in range(0, len(strs)):\n",
    "\n",
    "            if not strs: return \"\"\n",
    "            if len(strs) == 1: return strs[0]\n",
    "\n",
    "            strs.sort()\n",
    "            p = \"\"\n",
    "            for x, y in zip(strs[0], strs[-1]):\n",
    "                if x == y: p+=x\n",
    "                else: break\n",
    "            return p"
   ]
  },
  {
   "cell_type": "markdown",
   "id": "5cd8c520-fd2a-476b-9d39-33f50a66c52a",
   "metadata": {},
   "source": [
    "66. Plus One"
   ]
  },
  {
   "cell_type": "code",
   "execution_count": 8,
   "id": "3ad0ee02-ced4-468b-93d7-698a8e670ee2",
   "metadata": {},
   "outputs": [],
   "source": [
    "class Solution:\n",
    "    def plusOne(self, digits):\n",
    "        str_int =\"\"\n",
    "        for i in range(0, len(digits)):\n",
    "            str_int = str_int + str(digits[i])\n",
    "            \n",
    "        new_int = int(str_int) + 1\n",
    "        new_int_str = str(new_int)\n",
    "        new_digits=[]\n",
    "        for i in range(0, len(new_int_str)):\n",
    "            new_digits.append(new_int_str[i])\n",
    "        \n",
    "        return new_digits\n",
    "            "
   ]
  },
  {
   "cell_type": "markdown",
   "id": "98a13d36-d558-4023-bf45-9836efd07cd4",
   "metadata": {},
   "source": [
    "69. Sqrt(x)\n"
   ]
  },
  {
   "cell_type": "code",
   "execution_count": 9,
   "id": "ec87896b-15f8-4ecc-a9b3-68d43b2ed4dd",
   "metadata": {},
   "outputs": [],
   "source": [
    "\n",
    "class Solution:\n",
    "    def mySqrt(self, x: int) :\n",
    "        a=int(x/2)\n",
    "        \n",
    "        while(1):\n",
    "            if a*a >x:\n",
    "                a=int(a/2)\n",
    "\n",
    "            else:\n",
    "                if (a+1)*(a+1)>x:\n",
    "                    return a\n",
    "                if a*a<x:\n",
    "                    a=a+1"
   ]
  },
  {
   "cell_type": "code",
   "execution_count": 10,
   "id": "cced9ffc-0459-4b7e-8875-3a4bf840bfd8",
   "metadata": {},
   "outputs": [],
   "source": [
    "class Solution:\n",
    "    def mySqrt(self, n: int) -> int:\n",
    "        if n == 0:\n",
    "            return 0\n",
    "        if n == 1:\n",
    "            return 1\n",
    "        start = 1\n",
    "        end = n\n",
    "        while start <= end:\n",
    "            mid = (start+end)//2\n",
    "            \n",
    "            if mid*mid == n:\n",
    "                return mid\n",
    "\n",
    "            if mid*mid < n:\n",
    "                start = mid + 1\n",
    "                ans = mid\n",
    "            else:\n",
    "                end = mid - 1\n",
    "                \n",
    "\n",
    "        return ans\n",
    "        "
   ]
  },
  {
   "cell_type": "markdown",
   "id": "d9a68033-6a65-4945-875d-97ce8036f2dc",
   "metadata": {},
   "source": [
    "58. Length of Last Word\n"
   ]
  },
  {
   "cell_type": "code",
   "execution_count": 11,
   "id": "03349b15-3d62-42be-8e1a-ba84e0930fcc",
   "metadata": {},
   "outputs": [],
   "source": [
    "class Solution:\n",
    "    def lengthOfLastWord(self, s: str) -> int:\n",
    "            return len(str(s.split()[-1])) if s.split() else 0\n"
   ]
  },
  {
   "cell_type": "markdown",
   "id": "64fb7e45-a5a8-460c-b83e-a8ea97977984",
   "metadata": {},
   "source": [
    "35. Search Insert Position\n"
   ]
  },
  {
   "cell_type": "code",
   "execution_count": 14,
   "id": "91005f53-074b-4293-9b6b-00d81208b629",
   "metadata": {},
   "outputs": [],
   "source": [
    "class Solution:\n",
    "    def searchInsert(self, nums, target):\n",
    "        for i in range(0, len(nums)):\n",
    "            if nums[0] > target:\n",
    "                return 0\n",
    "            elif nums[-1] < target:\n",
    "                return len(nums)\n",
    "            elif nums[i]==target:\n",
    "                return i\n",
    "            elif (nums[i] < target) and (target < nums[i+1]):\n",
    "                return i+1\n"
   ]
  },
  {
   "cell_type": "code",
   "execution_count": 15,
   "id": "567476f3-4ab7-47c8-9afc-b066f4c96173",
   "metadata": {},
   "outputs": [
    {
     "ename": "IndentationError",
     "evalue": "expected an indented block (<ipython-input-15-52c9a129b4e4>, line 2)",
     "output_type": "error",
     "traceback": [
      "\u001b[0;36m  File \u001b[0;32m\"<ipython-input-15-52c9a129b4e4>\"\u001b[0;36m, line \u001b[0;32m2\u001b[0m\n\u001b[0;31m    def searchInsert(self, nums: List[int], target: int) -> int:\u001b[0m\n\u001b[0m      ^\u001b[0m\n\u001b[0;31mIndentationError\u001b[0m\u001b[0;31m:\u001b[0m expected an indented block\n"
     ]
    }
   ],
   "source": [
    "class Solution:\n",
    "    def searchInsert(self, nums: List[int], target: int) -> int:\n",
    "        if target in nums:\n",
    "            return (nums.index(target))\n",
    "        else:\n",
    "            nums.append(target)\n",
    "            nums.sort()\n",
    "            return (nums.index(target))"
   ]
  },
  {
   "cell_type": "markdown",
   "id": "ad244c11-35b0-4836-9e77-0342373cdddb",
   "metadata": {},
   "source": [
    "70. Climbing Stairs\n"
   ]
  },
  {
   "cell_type": "code",
   "execution_count": 1,
   "id": "096cf3b0-9b7b-4267-b2ed-3822e509b54e",
   "metadata": {},
   "outputs": [],
   "source": [
    "class Solution:\n",
    "    def climbStairs(self, n):\n",
    "        self.mem = [0,1,2]\n",
    "        if (n < len(self.mem)):\n",
    "            return self.mem[n]\n",
    "        while len(self.mem) <= n:\n",
    "            self.mem.append(self.mem[-1]+self.mem[-2])\n",
    "        return self.mem[n]"
   ]
  },
  {
   "cell_type": "markdown",
   "id": "58e0bf41-012d-4cf3-8d44-16d2338b0b1c",
   "metadata": {},
   "source": [
    "118. Pascal's Triangle\n"
   ]
  },
  {
   "cell_type": "code",
   "execution_count": 2,
   "id": "067acec9-e21f-4ed5-88cf-256da91c2d67",
   "metadata": {},
   "outputs": [],
   "source": [
    "class Solution:\n",
    "    def generate(self, numRows: int):\n",
    "        if numRows   == 0: return []\n",
    "        elif numRows == 1: return [[1]]\n",
    "        Tri = [[1]]\n",
    "        for i in range(1,numRows):\n",
    "            row = [1]\n",
    "            for j in range(1,i):\n",
    "                row.append(Tri[i-1][j-1] + Tri[i-1][j]) \n",
    "            row.append(1)\n",
    "            Tri.append(row)\n",
    "        return Tri"
   ]
  },
  {
   "cell_type": "code",
   "execution_count": null,
   "id": "fc1491ae-37d9-43f6-9ec3-ff6125b3b802",
   "metadata": {},
   "outputs": [],
   "source": []
  }
 ],
 "metadata": {
  "kernelspec": {
   "display_name": "Python 3",
   "language": "python",
   "name": "python3"
  },
  "language_info": {
   "codemirror_mode": {
    "name": "ipython",
    "version": 3
   },
   "file_extension": ".py",
   "mimetype": "text/x-python",
   "name": "python",
   "nbconvert_exporter": "python",
   "pygments_lexer": "ipython3",
   "version": "3.7.10"
  },
  "toc-autonumbering": false,
  "toc-showcode": true,
  "toc-showmarkdowntxt": false
 },
 "nbformat": 4,
 "nbformat_minor": 5
}
