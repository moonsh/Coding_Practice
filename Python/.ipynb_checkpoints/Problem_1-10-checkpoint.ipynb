{
 "cells": [
  {
   "cell_type": "markdown",
   "id": "96d31f66-13a2-4037-bfa9-c6f9793f35b5",
   "metadata": {},
   "source": [
    "1. Two Sum"
   ]
  },
  {
   "cell_type": "markdown",
   "id": "2589efb6-e8e8-40e6-8c0b-d97d8f655c8c",
   "metadata": {},
   "source": [
    "My solution "
   ]
  },
  {
   "cell_type": "code",
   "execution_count": 1,
   "id": "5c3d2494-92f8-424c-87a9-6b36dff0e4ab",
   "metadata": {},
   "outputs": [
    {
     "name": "stdout",
     "output_type": "stream",
     "text": [
      "[0, 1]\n"
     ]
    }
   ],
   "source": [
    "class Solution:\n",
    "    def twoSum(self, nums, target):       \n",
    "        found_target = False        \n",
    "        for i in range(len(nums)):\n",
    "            list_n =[]        \n",
    "            sum = nums[i]\n",
    "            list_n.append(i)\n",
    "            for j in range(i+1,len(nums)):\n",
    "                sum = sum + nums[j]\n",
    "                if sum == target:\n",
    "                    list_n.append(j)\n",
    "                    found_target = True\n",
    "                    break\n",
    "                else:\n",
    "                    sum = nums[i]            \n",
    "            if found_target:\n",
    "                    break\n",
    "        \n",
    "        return list_n\n",
    "\n",
    "x = Solution()\n",
    "output = x.twoSum([2,7,11,15], 9 )\n",
    "print(output)\n"
   ]
  },
  {
   "cell_type": "markdown",
   "id": "838d31f9-38b3-4fa9-a9ac-297cd28b7459",
   "metadata": {},
   "source": [
    "Best Solution"
   ]
  },
  {
   "cell_type": "code",
   "execution_count": 2,
   "id": "a5c70a33-50be-4efa-aefd-094bfff4a892",
   "metadata": {},
   "outputs": [],
   "source": [
    "class Solution:\n",
    "    def twoSum(self, nums, target):\n",
    "        \"\"\"\n",
    "        :type nums: List[int]\n",
    "        :type target: int\n",
    "        :rtype: List[int]\n",
    "        \"\"\"\n",
    "        h = {}\n",
    "        for i, num in enumerate(nums):\n",
    "            n = target - num\n",
    "            if n not in h:\n",
    "                h[num] = i\n",
    "            else:\n",
    "                return [h[n], i]"
   ]
  },
  {
   "cell_type": "markdown",
   "id": "bf28bc58-e7fb-443e-a8fc-53041e7f5f9b",
   "metadata": {},
   "source": [
    "7. Reverse Integer "
   ]
  },
  {
   "cell_type": "code",
   "execution_count": 38,
   "id": "bcd299ea-fe23-42a2-9a28-46e573723839",
   "metadata": {},
   "outputs": [],
   "source": [
    "class Solution:\n",
    "    def reverse(self, x: int):\n",
    "        a = str(x)\n",
    "        new=\"\"\n",
    "        negative =False\n",
    "        j = 1 if a[0]== \"-\" else 0\n",
    "        if a[0]==\"-\":\n",
    "            negative = True\n",
    "                        \n",
    "        for i in range(j,len(a)):\n",
    "            new = a[i]+ str(new)\n",
    "        \n",
    "        if negative:\n",
    "            new = \"-\"+new\n",
    "\n",
    "        if(abs(int(new)) > 2 ** 31):\n",
    "            return 0\n",
    "            \n",
    "        return int(new)"
   ]
  },
  {
   "cell_type": "code",
   "execution_count": 40,
   "id": "32ef8f1e-d12e-4fc4-a904-fd22e2a5aecb",
   "metadata": {},
   "outputs": [
    {
     "name": "stdout",
     "output_type": "stream",
     "text": [
      "1534236469\n",
      "9646324351\n"
     ]
    },
    {
     "data": {
      "text/plain": [
       "2147483648"
      ]
     },
     "execution_count": 40,
     "metadata": {},
     "output_type": "execute_result"
    }
   ],
   "source": [
    "x = Solution()\n",
    "output = x.reverse(1534236469)\n",
    "print(output)\n",
    "2 ** 31"
   ]
  },
  {
   "cell_type": "markdown",
   "id": "bc8bafe4-812e-4f87-819d-4ea51afadef3",
   "metadata": {},
   "source": [
    "Best Solution"
   ]
  },
  {
   "cell_type": "code",
   "execution_count": 41,
   "id": "bbe6f124-ccee-40a7-b3e0-a6edfb632bbb",
   "metadata": {},
   "outputs": [],
   "source": [
    "class Solution:\n",
    "    def reverse(self, x: int):\n",
    "        if x >= 2**31-1 or x <= -2**31: return 0\n",
    "        else:\n",
    "            strg = str(x)\n",
    "            if x >= 0 :\n",
    "                revst = strg[::-1]\n",
    "            else:\n",
    "                temp = strg[1:] \n",
    "                temp2 = temp[::-1] \n",
    "                revst = \"-\" + temp2\n",
    "            if int(revst) >= 2**31-1 or int(revst) <= -2**31: return 0\n",
    "            else: return int(revst)"
   ]
  },
  {
   "cell_type": "markdown",
   "id": "361fd297-8107-4ba4-a26d-34fd0bba0a8e",
   "metadata": {},
   "source": [
    "9. Palindrome Number\n",
    "My Solution"
   ]
  },
  {
   "cell_type": "code",
   "execution_count": 5,
   "id": "99af671b-430a-45ec-b9ea-46e2e836c7ca",
   "metadata": {},
   "outputs": [],
   "source": [
    "class Solution:\n",
    "    def isPalindrome(self, x: int) -> bool:\n",
    "        a = str(x)       \n",
    "        if a[0]==\"-\":\n",
    "            return False\n",
    "        new =\"\"\n",
    "        for i in range(len(a)):\n",
    "            new = a[i] + new\n",
    "            \n",
    "    \n",
    "        if int(new)==x:\n",
    "            return True\n",
    "        else:\n",
    "            return False\n",
    "            "
   ]
  },
  {
   "cell_type": "markdown",
   "id": "046867aa-1349-4c30-bf27-80de519b1868",
   "metadata": {},
   "source": [
    "14. Longest Common Prefix"
   ]
  },
  {
   "cell_type": "code",
   "execution_count": 4,
   "id": "1feae796-c0e1-4dd7-b4bb-9166682f9b4b",
   "metadata": {},
   "outputs": [],
   "source": [
    "class Solution:\n",
    "    def longestCommonPrefix(self, strs) -> str:        \n",
    "        for i in range(0, len(strs)):\n",
    "\n",
    "            if not strs: return \"\"\n",
    "            if len(strs) == 1: return strs[0]\n",
    "\n",
    "            strs.sort()\n",
    "            p = \"\"\n",
    "            for x, y in zip(strs[0], strs[-1]):\n",
    "                if x == y: p+=x\n",
    "                else: break\n",
    "            return p"
   ]
  },
  {
   "cell_type": "markdown",
   "id": "5cd8c520-fd2a-476b-9d39-33f50a66c52a",
   "metadata": {},
   "source": [
    "66. Plus One"
   ]
  },
  {
   "cell_type": "code",
   "execution_count": 9,
   "id": "3ad0ee02-ced4-468b-93d7-698a8e670ee2",
   "metadata": {},
   "outputs": [],
   "source": [
    "class Solution:\n",
    "    def plusOne(self, digits):\n",
    "        str_int =\"\"\n",
    "        for i in range(0, len(digits)):\n",
    "            str_int = str_int + str(digits[i])\n",
    "            \n",
    "        new_int = int(str_int) + 1\n",
    "        new_int_str = str(new_int)\n",
    "        new_digits=[]\n",
    "        for i in range(0, len(new_int_str)):\n",
    "            new_digits.append(new_int_str[i])\n",
    "        \n",
    "        return new_digits\n",
    "            "
   ]
  },
  {
   "cell_type": "markdown",
   "id": "98a13d36-d558-4023-bf45-9836efd07cd4",
   "metadata": {},
   "source": [
    "69. Sqrt(x)\n"
   ]
  },
  {
   "cell_type": "code",
   "execution_count": 1,
   "id": "ec87896b-15f8-4ecc-a9b3-68d43b2ed4dd",
   "metadata": {},
   "outputs": [],
   "source": [
    "\n",
    "class Solution:\n",
    "    def mySqrt(self, x: int) :\n",
    "        a=int(x/2)\n",
    "        \n",
    "        while(1):\n",
    "            if a*a >x:\n",
    "                a=int(a/2)\n",
    "\n",
    "            else:\n",
    "                if (a+1)*(a+1)>x:\n",
    "                    return a\n",
    "                if a*a<x:\n",
    "                    a=a+1"
   ]
  },
  {
   "cell_type": "code",
   "execution_count": null,
   "id": "cced9ffc-0459-4b7e-8875-3a4bf840bfd8",
   "metadata": {},
   "outputs": [],
   "source": [
    "class Solution:\n",
    "    def mySqrt(self, n: int) -> int:\n",
    "        if n == 0:\n",
    "            return 0\n",
    "        if n == 1:\n",
    "            return 1\n",
    "        start = 1\n",
    "        end = n\n",
    "        while start <= end:\n",
    "            mid = (start+end)//2\n",
    "            \n",
    "            if mid*mid == n:\n",
    "                return mid\n",
    "\n",
    "            if mid*mid < n:\n",
    "                start = mid + 1\n",
    "                ans = mid\n",
    "            else:\n",
    "                end = mid - 1\n",
    "                \n",
    "\n",
    "        return ans\n",
    "        "
   ]
  },
  {
   "cell_type": "markdown",
   "id": "d9a68033-6a65-4945-875d-97ce8036f2dc",
   "metadata": {},
   "source": [
    "58. Length of Last Word\n"
   ]
  },
  {
   "cell_type": "code",
   "execution_count": null,
   "id": "03349b15-3d62-42be-8e1a-ba84e0930fcc",
   "metadata": {},
   "outputs": [],
   "source": [
    "class Solution:\n",
    "    def lengthOfLastWord(self, s: str) -> int:\n",
    "            return len(str(s.split()[-1])) if s.split() else 0\n"
   ]
  }
 ],
 "metadata": {
  "kernelspec": {
   "display_name": "Python 3",
   "language": "python",
   "name": "python3"
  },
  "language_info": {
   "codemirror_mode": {
    "name": "ipython",
    "version": 3
   },
   "file_extension": ".py",
   "mimetype": "text/x-python",
   "name": "python",
   "nbconvert_exporter": "python",
   "pygments_lexer": "ipython3",
   "version": "3.7.10"
  },
  "toc-autonumbering": false,
  "toc-showcode": true,
  "toc-showmarkdowntxt": false
 },
 "nbformat": 4,
 "nbformat_minor": 5
}
