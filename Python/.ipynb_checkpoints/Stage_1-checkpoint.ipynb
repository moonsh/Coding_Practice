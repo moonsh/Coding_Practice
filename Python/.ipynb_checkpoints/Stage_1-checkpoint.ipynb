{
 "cells": [
  {
   "cell_type": "markdown",
   "id": "96d31f66-13a2-4037-bfa9-c6f9793f35b5",
   "metadata": {},
   "source": [
    "1. Two Sum"
   ]
  },
  {
   "cell_type": "code",
   "execution_count": null,
   "id": "69d3978f-a86f-4334-a5b1-cb90e0de9942",
   "metadata": {},
   "outputs": [],
   "source": []
  },
  {
   "cell_type": "code",
   "execution_count": 18,
   "id": "5c3d2494-92f8-424c-87a9-6b36dff0e4ab",
   "metadata": {},
   "outputs": [
    {
     "name": "stdout",
     "output_type": "stream",
     "text": [
      "[0, 1]\n"
     ]
    }
   ],
   "source": [
    "class Solution:\n",
    "    def twoSum(self, nums, target):       \n",
    "        found_target = False        \n",
    "        for i in range(len(nums)):\n",
    "            list_n =[]        \n",
    "            sum = nums[i]\n",
    "            list_n.append(i)\n",
    "            for j in range(i+1,len(nums)):\n",
    "                sum = sum + nums[j]\n",
    "                if sum == target:\n",
    "                    list_n.append(j)\n",
    "                    found_target = True\n",
    "                    break\n",
    "                else:\n",
    "                    sum = nums[i]            \n",
    "            if found_target:\n",
    "                    break\n",
    "        \n",
    "        return list_n\n",
    "\n",
    "x = Solution()\n",
    "output = x.twoSum([2,7,11,15], 9 )\n",
    "print(output)\n"
   ]
  },
  {
   "cell_type": "code",
   "execution_count": null,
   "id": "74b87154-5320-4317-bd7c-6f92f4fe0f1c",
   "metadata": {},
   "outputs": [],
   "source": []
  }
 ],
 "metadata": {
  "kernelspec": {
   "display_name": "Python 3",
   "language": "python",
   "name": "python3"
  },
  "language_info": {
   "codemirror_mode": {
    "name": "ipython",
    "version": 3
   },
   "file_extension": ".py",
   "mimetype": "text/x-python",
   "name": "python",
   "nbconvert_exporter": "python",
   "pygments_lexer": "ipython3",
   "version": "3.7.10"
  }
 },
 "nbformat": 4,
 "nbformat_minor": 5
}
