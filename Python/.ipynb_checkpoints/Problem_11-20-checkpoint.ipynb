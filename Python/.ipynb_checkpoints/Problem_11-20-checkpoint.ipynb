{
 "cells": [
  {
   "cell_type": "markdown",
   "id": "07858b08-567f-45e5-a01f-3d5a3e4cf96d",
   "metadata": {},
   "source": [
    "28. Implement strStr()\n",
    "\n"
   ]
  },
  {
   "cell_type": "code",
   "execution_count": 3,
   "id": "103187f3-2693-4bda-aa51-1b6e76ebbe88",
   "metadata": {},
   "outputs": [],
   "source": [
    "class Solution:\n",
    "    def strStr(self, haystack: str, needle: str):\n",
    "        if needle == \"\":\n",
    "            return 0\n",
    "        if needle in haystack:\n",
    "            t = haystack.split(needle)\n",
    "            return len(t[0])\n",
    "        else:\n",
    "            return -1"
   ]
  },
  {
   "cell_type": "markdown",
   "id": "7bc6c0f4-354e-40b1-a019-d097d5ec1c26",
   "metadata": {},
   "source": [
    "67. Add Binary\n"
   ]
  },
  {
   "cell_type": "code",
   "execution_count": 4,
   "id": "19773dee-bede-4de1-b0b6-a35f80af2b4d",
   "metadata": {},
   "outputs": [],
   "source": [
    "class Solution:\n",
    "    def addBinary(self, a: str, b: str):\n",
    "        c = int(a) + int(b)\n",
    "        c = [int(d) for d in str(c)][::-1]\n",
    "        c.append(0) \n",
    "\n",
    "        for i in range(0, len(c)-1):\n",
    "            if c[i] > 1:\n",
    "                c[i+1]+=1\n",
    "                c[i] = 0 if c[i] == 2 else 1\n",
    "        \n",
    "        if c[-1] == 0:\n",
    "            c.pop()\n",
    "\n",
    "        return \"\".join(map(str, c[::-1]))"
   ]
  },
  {
   "cell_type": "markdown",
   "id": "0d19e929-a532-452f-a9b8-7a81d29f19c2",
   "metadata": {},
   "source": [
    "2. Add Two Numbers\n"
   ]
  },
  {
   "cell_type": "code",
   "execution_count": 5,
   "id": "d1762aef-a0b7-4f77-a0f1-3a7bc25816c3",
   "metadata": {},
   "outputs": [],
   "source": [
    "class Solution:\n",
    "    def addTwoNumbers(self, l1, l2):\n",
    "                # a2. more space efficient\n",
    "        digit = carry = 0\n",
    "        head = node = ListNode()\n",
    "        while l1 or l2:\n",
    "            if l1:\n",
    "                digit += l1.val\n",
    "                l1 = l1.next\n",
    "            if l2: \n",
    "                digit += l2.val\n",
    "                l2 = l2.next\n",
    "            digit += carry  # to account for base 10 overflow\n",
    "            carry = digit // 10  # will only ever be 1 or 0\n",
    "            node.val = digit % 10  # grabs LSB to append\n",
    "            if l1 is None and l2 is None: break\n",
    "            node.next = ListNode()\n",
    "            node = node.next\n",
    "            digit = 0\n",
    "        if carry:\n",
    "            node.next = ListNode(carry)\n",
    "        return head"
   ]
  },
  {
   "cell_type": "markdown",
   "id": "f364e588-421b-411a-bc1f-c9283934bf89",
   "metadata": {},
   "source": [
    "4. Median of Two Sorted Arrays\n"
   ]
  },
  {
   "cell_type": "code",
   "execution_count": 6,
   "id": "edb91749-cba1-4912-8461-00fc0046dafc",
   "metadata": {},
   "outputs": [],
   "source": [
    "class Solution:\n",
    "    def findMedianSortedArrays(self, nums1, nums2):\n",
    "\n",
    "        total = nums1 + nums2\n",
    "        total.sort()\n",
    "        index = len(total)/2\n",
    "        index = int(index)\n",
    "        \n",
    "        if len(total)%2 ==0:\n",
    "            \n",
    "            median_1 = total[index-1]\n",
    "            median_2 = total[index]\n",
    "            \n",
    "            \n",
    "            return float(median_1+median_2)/2.0\n",
    "        \n",
    "        else:\n",
    "            return total[index]\n"
   ]
  },
  {
   "cell_type": "markdown",
   "id": "7c71bf6f-6feb-4a5a-9ece-6e8b9d13c5e7",
   "metadata": {},
   "source": [
    "8. String to Integer (atoi)\n"
   ]
  },
  {
   "cell_type": "code",
   "execution_count": 7,
   "id": "a761ca83-87ca-43d7-98b7-6a989531d89e",
   "metadata": {},
   "outputs": [],
   "source": [
    "class Solution:\n",
    "    def myAtoi(self, s: str) -> int:\n",
    "        result = ''\n",
    "        sign = 1\n",
    "        index = 0\n",
    "        while index < len(s) and s[index] == \" \":\n",
    "            index += 1\n",
    "        if index < len(s):\n",
    "            if s[index] == \"+\":\n",
    "                index += 1\n",
    "            elif s[index] == \"-\":\n",
    "                sign = -1\n",
    "                index += 1\n",
    "        for i in range(index,len(s)):\n",
    "            if s[i].isdigit():\n",
    "                result += s[i]\n",
    "                i += 1\n",
    "            else:\n",
    "                break\n",
    "        if result =='':\n",
    "            return 0\n",
    "        result = sign * int(result)\n",
    "        if result>2**31-1:\n",
    "            return 2**31-1\n",
    "        elif result<(-2**31):\n",
    "            return -2**31\n",
    "        else:\n",
    "            return result"
   ]
  },
  {
   "cell_type": "code",
   "execution_count": null,
   "id": "9a2c3db3-7c71-44d9-9348-a380e0f04e55",
   "metadata": {},
   "outputs": [],
   "source": []
  }
 ],
 "metadata": {
  "kernelspec": {
   "display_name": "Python 3",
   "language": "python",
   "name": "python3"
  },
  "language_info": {
   "codemirror_mode": {
    "name": "ipython",
    "version": 3
   },
   "file_extension": ".py",
   "mimetype": "text/x-python",
   "name": "python",
   "nbconvert_exporter": "python",
   "pygments_lexer": "ipython3",
   "version": "3.7.10"
  }
 },
 "nbformat": 4,
 "nbformat_minor": 5
}
