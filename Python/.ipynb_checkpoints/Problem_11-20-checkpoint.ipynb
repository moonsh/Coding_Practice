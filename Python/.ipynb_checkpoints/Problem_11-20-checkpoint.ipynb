{
 "cells": [
  {
   "cell_type": "markdown",
   "id": "07858b08-567f-45e5-a01f-3d5a3e4cf96d",
   "metadata": {},
   "source": [
    "28. Implement strStr()\n",
    "\n"
   ]
  },
  {
   "cell_type": "code",
   "execution_count": 3,
   "id": "103187f3-2693-4bda-aa51-1b6e76ebbe88",
   "metadata": {},
   "outputs": [],
   "source": [
    "class Solution:\n",
    "    def strStr(self, haystack: str, needle: str):\n",
    "        if needle == \"\":\n",
    "            return 0\n",
    "        if needle in haystack:\n",
    "            t = haystack.split(needle)\n",
    "            return len(t[0])\n",
    "        else:\n",
    "            return -1"
   ]
  },
  {
   "cell_type": "markdown",
   "id": "7bc6c0f4-354e-40b1-a019-d097d5ec1c26",
   "metadata": {},
   "source": [
    "67. Add Binary\n"
   ]
  },
  {
   "cell_type": "code",
   "execution_count": 4,
   "id": "19773dee-bede-4de1-b0b6-a35f80af2b4d",
   "metadata": {},
   "outputs": [],
   "source": [
    "class Solution:\n",
    "    def addBinary(self, a: str, b: str):\n",
    "        c = int(a) + int(b)\n",
    "        c = [int(d) for d in str(c)][::-1]\n",
    "        c.append(0) \n",
    "\n",
    "        for i in range(0, len(c)-1):\n",
    "            if c[i] > 1:\n",
    "                c[i+1]+=1\n",
    "                c[i] = 0 if c[i] == 2 else 1\n",
    "        \n",
    "        if c[-1] == 0:\n",
    "            c.pop()\n",
    "\n",
    "        return \"\".join(map(str, c[::-1]))"
   ]
  },
  {
   "cell_type": "markdown",
   "id": "0d19e929-a532-452f-a9b8-7a81d29f19c2",
   "metadata": {},
   "source": [
    "2. Add Two Numbers\n"
   ]
  },
  {
   "cell_type": "code",
   "execution_count": 5,
   "id": "d1762aef-a0b7-4f77-a0f1-3a7bc25816c3",
   "metadata": {},
   "outputs": [],
   "source": [
    "class Solution:\n",
    "    def addTwoNumbers(self, l1, l2):\n",
    "                # a2. more space efficient\n",
    "        digit = carry = 0\n",
    "        head = node = ListNode()\n",
    "        while l1 or l2:\n",
    "            if l1:\n",
    "                digit += l1.val\n",
    "                l1 = l1.next\n",
    "            if l2: \n",
    "                digit += l2.val\n",
    "                l2 = l2.next\n",
    "            digit += carry  # to account for base 10 overflow\n",
    "            carry = digit // 10  # will only ever be 1 or 0\n",
    "            node.val = digit % 10  # grabs LSB to append\n",
    "            if l1 is None and l2 is None: break\n",
    "            node.next = ListNode()\n",
    "            node = node.next\n",
    "            digit = 0\n",
    "        if carry:\n",
    "            node.next = ListNode(carry)\n",
    "        return head"
   ]
  },
  {
   "cell_type": "markdown",
   "id": "f364e588-421b-411a-bc1f-c9283934bf89",
   "metadata": {},
   "source": [
    "4. Median of Two Sorted Arrays\n"
   ]
  },
  {
   "cell_type": "code",
   "execution_count": 6,
   "id": "edb91749-cba1-4912-8461-00fc0046dafc",
   "metadata": {},
   "outputs": [],
   "source": [
    "class Solution:\n",
    "    def findMedianSortedArrays(self, nums1, nums2):\n",
    "\n",
    "        total = nums1 + nums2\n",
    "        total.sort()\n",
    "        index = len(total)/2\n",
    "        index = int(index)\n",
    "        \n",
    "        if len(total)%2 ==0:\n",
    "            \n",
    "            median_1 = total[index-1]\n",
    "            median_2 = total[index]\n",
    "            \n",
    "            \n",
    "            return float(median_1+median_2)/2.0\n",
    "        \n",
    "        else:\n",
    "            return total[index]\n"
   ]
  },
  {
   "cell_type": "markdown",
   "id": "7c71bf6f-6feb-4a5a-9ece-6e8b9d13c5e7",
   "metadata": {},
   "source": [
    "8. String to Integer (atoi)\n"
   ]
  },
  {
   "cell_type": "code",
   "execution_count": 7,
   "id": "a761ca83-87ca-43d7-98b7-6a989531d89e",
   "metadata": {},
   "outputs": [],
   "source": [
    "class Solution:\n",
    "    def myAtoi(self, s: str) -> int:\n",
    "        result = ''\n",
    "        sign = 1\n",
    "        index = 0\n",
    "        while index < len(s) and s[index] == \" \":\n",
    "            index += 1\n",
    "        if index < len(s):\n",
    "            if s[index] == \"+\":\n",
    "                index += 1\n",
    "            elif s[index] == \"-\":\n",
    "                sign = -1\n",
    "                index += 1\n",
    "        for i in range(index,len(s)):\n",
    "            if s[i].isdigit():\n",
    "                result += s[i]\n",
    "                i += 1\n",
    "            else:\n",
    "                break\n",
    "        if result =='':\n",
    "            return 0\n",
    "        result = sign * int(result)\n",
    "        if result>2**31-1:\n",
    "            return 2**31-1\n",
    "        elif result<(-2**31):\n",
    "            return -2**31\n",
    "        else:\n",
    "            return result"
   ]
  },
  {
   "cell_type": "markdown",
   "id": "99cd0c58-f2f9-4bb0-a73f-960c4de995b0",
   "metadata": {},
   "source": [
    "16. 3Sum Closest"
   ]
  },
  {
   "cell_type": "code",
   "execution_count": 2,
   "id": "83fd6cbd-a585-4922-bd9f-64886874e5bd",
   "metadata": {},
   "outputs": [],
   "source": [
    "class Solution:\n",
    "    def threeSumClosest(self, nums, target) :\n",
    "        nums.sort()\n",
    "        \n",
    "        i = 0\n",
    "        n = len(nums)\n",
    "        output = None\n",
    "        min_dist = float('inf')\n",
    "        \n",
    "        while i < n:\n",
    "            \n",
    "            fixed = nums[i]\n",
    "            target_ = target - fixed\n",
    "            j = i + 1\n",
    "            k = n - 1\n",
    "            \n",
    "            while j < k:\n",
    "                \n",
    "                l = nums[j]\n",
    "                r = nums[k]\n",
    "                sum_ = l + r\n",
    "                \n",
    "                if sum_ == target_: return target\n",
    "                \n",
    "                if sum_ < target_:\n",
    "                    j += 1\n",
    "                    while j < n and nums[j] == l:\n",
    "                        j += 1\n",
    "                \n",
    "                else:\n",
    "                    k -= 1\n",
    "                    while k > 0 and nums[k] == r:\n",
    "                        k -= 1\n",
    "                if (abs(sum_ - target_) < min_dist):\n",
    "                    min_dist = abs(sum_ - target_)\n",
    "                    output = sum_ + fixed\n",
    "                \n",
    "            i += 1\n",
    "            while i < n and nums[i] == fixed:\n",
    "                i += 1\n",
    "                \n",
    "        return output"
   ]
  },
  {
   "cell_type": "markdown",
   "id": "d6717c73-de95-4f66-b51d-1453bf3a3c3b",
   "metadata": {},
   "source": [
    "17. Letter Combinations of a Phone Number\n"
   ]
  },
  {
   "cell_type": "code",
   "execution_count": 3,
   "id": "73c7f468-7ebe-4cbd-ad64-78990424c860",
   "metadata": {},
   "outputs": [],
   "source": [
    "class Solution(object):\n",
    "    def letterCombinations(self, digits):\n",
    "        \"\"\"\n",
    "        :type digits: str\n",
    "        :rtype: List[str]\n",
    "        \"\"\"\n",
    "        \n",
    "        # edge case digits = \"\"\n",
    "        if digits == '':\n",
    "            return []\n",
    "        \n",
    "        # dictionary (can be moved out of the function into the general class)\n",
    "        numToLetter = {\n",
    "                        '2': 'abc',\n",
    "                        '3': 'def',\n",
    "                        '4': 'ghi',\n",
    "                        '5': 'jkl',\n",
    "                        '6': 'mno',\n",
    "                        '7': 'pqrs',\n",
    "                        '8': 'tuv',\n",
    "                        '9': 'wxyz'\n",
    "                        }\n",
    "        \n",
    "        # get current digit and possible letters then remove digit\n",
    "        currDigit = digits[0]\n",
    "        currLetters = numToLetter[currDigit]\n",
    "        digits = digits[1:]\n",
    "        \n",
    "        # each recursive step rebuilds the combinations with new digit possibilities\n",
    "        combinations = []\n",
    "        \n",
    "        # if digits is empty begin building the combinations last digit to first\n",
    "        # digits will be empty on the last recursion call\n",
    "        if digits == '':\n",
    "            combinations = currLetters\n",
    "            return combinations\n",
    "        \n",
    "        # keep building combinations\n",
    "        prevComb = self.letterCombinations(digits) # recursive call\n",
    "        for l in currLetters:\n",
    "            for d in prevComb:\n",
    "                combinations.append(l+d)\n",
    "        \n",
    "        return combinations"
   ]
  },
  {
   "cell_type": "markdown",
   "id": "55540284-cf7c-4f75-8a54-e602a2105c14",
   "metadata": {},
   "source": [
    "11. Container With Most Water\n"
   ]
  },
  {
   "cell_type": "code",
   "execution_count": 1,
   "id": "850bebbd-b8c7-4016-9212-604b8da1759d",
   "metadata": {},
   "outputs": [
    {
     "ename": "NameError",
     "evalue": "name 'List' is not defined",
     "output_type": "error",
     "traceback": [
      "\u001b[0;31m---------------------------------------------------------------------------\u001b[0m",
      "\u001b[0;31mNameError\u001b[0m                                 Traceback (most recent call last)",
      "\u001b[0;32m<ipython-input-1-d5c3d35bfd25>\u001b[0m in \u001b[0;36m<module>\u001b[0;34m\u001b[0m\n\u001b[0;32m----> 1\u001b[0;31m \u001b[0;32mclass\u001b[0m \u001b[0mSolution\u001b[0m\u001b[0;34m:\u001b[0m\u001b[0;34m\u001b[0m\u001b[0;34m\u001b[0m\u001b[0m\n\u001b[0m\u001b[1;32m      2\u001b[0m     \u001b[0;32mdef\u001b[0m \u001b[0mmaxArea\u001b[0m\u001b[0;34m(\u001b[0m\u001b[0mself\u001b[0m\u001b[0;34m,\u001b[0m \u001b[0mheight\u001b[0m\u001b[0;34m:\u001b[0m \u001b[0mList\u001b[0m\u001b[0;34m[\u001b[0m\u001b[0mint\u001b[0m\u001b[0;34m]\u001b[0m\u001b[0;34m)\u001b[0m \u001b[0;34m->\u001b[0m \u001b[0mint\u001b[0m\u001b[0;34m:\u001b[0m\u001b[0;34m\u001b[0m\u001b[0;34m\u001b[0m\u001b[0m\n\u001b[1;32m      3\u001b[0m         \u001b[0;31m# [1,8,6,2,5,4,8,3,7]\u001b[0m\u001b[0;34m\u001b[0m\u001b[0;34m\u001b[0m\u001b[0;34m\u001b[0m\u001b[0m\n\u001b[1;32m      4\u001b[0m \u001b[0;34m\u001b[0m\u001b[0m\n\u001b[1;32m      5\u001b[0m         \u001b[0mleft\u001b[0m\u001b[0;34m,\u001b[0m \u001b[0mright\u001b[0m \u001b[0;34m=\u001b[0m \u001b[0;36m0\u001b[0m\u001b[0;34m,\u001b[0m \u001b[0mlen\u001b[0m\u001b[0;34m(\u001b[0m\u001b[0mheight\u001b[0m\u001b[0;34m)\u001b[0m \u001b[0;34m-\u001b[0m \u001b[0;36m1\u001b[0m \u001b[0;31m# 0, 8\u001b[0m\u001b[0;34m\u001b[0m\u001b[0;34m\u001b[0m\u001b[0m\n",
      "\u001b[0;32m<ipython-input-1-d5c3d35bfd25>\u001b[0m in \u001b[0;36mSolution\u001b[0;34m()\u001b[0m\n\u001b[1;32m      1\u001b[0m \u001b[0;32mclass\u001b[0m \u001b[0mSolution\u001b[0m\u001b[0;34m:\u001b[0m\u001b[0;34m\u001b[0m\u001b[0;34m\u001b[0m\u001b[0m\n\u001b[0;32m----> 2\u001b[0;31m     \u001b[0;32mdef\u001b[0m \u001b[0mmaxArea\u001b[0m\u001b[0;34m(\u001b[0m\u001b[0mself\u001b[0m\u001b[0;34m,\u001b[0m \u001b[0mheight\u001b[0m\u001b[0;34m:\u001b[0m \u001b[0mList\u001b[0m\u001b[0;34m[\u001b[0m\u001b[0mint\u001b[0m\u001b[0;34m]\u001b[0m\u001b[0;34m)\u001b[0m \u001b[0;34m->\u001b[0m \u001b[0mint\u001b[0m\u001b[0;34m:\u001b[0m\u001b[0;34m\u001b[0m\u001b[0;34m\u001b[0m\u001b[0m\n\u001b[0m\u001b[1;32m      3\u001b[0m         \u001b[0;31m# [1,8,6,2,5,4,8,3,7]\u001b[0m\u001b[0;34m\u001b[0m\u001b[0;34m\u001b[0m\u001b[0;34m\u001b[0m\u001b[0m\n\u001b[1;32m      4\u001b[0m \u001b[0;34m\u001b[0m\u001b[0m\n\u001b[1;32m      5\u001b[0m         \u001b[0mleft\u001b[0m\u001b[0;34m,\u001b[0m \u001b[0mright\u001b[0m \u001b[0;34m=\u001b[0m \u001b[0;36m0\u001b[0m\u001b[0;34m,\u001b[0m \u001b[0mlen\u001b[0m\u001b[0;34m(\u001b[0m\u001b[0mheight\u001b[0m\u001b[0;34m)\u001b[0m \u001b[0;34m-\u001b[0m \u001b[0;36m1\u001b[0m \u001b[0;31m# 0, 8\u001b[0m\u001b[0;34m\u001b[0m\u001b[0;34m\u001b[0m\u001b[0m\n",
      "\u001b[0;31mNameError\u001b[0m: name 'List' is not defined"
     ]
    }
   ],
   "source": [
    "class Solution:\n",
    "    def maxArea(self, height: List[int]) -> int:\n",
    "        # [1,8,6,2,5,4,8,3,7]\n",
    "\n",
    "        left, right = 0, len(height) - 1 # 0, 8\n",
    "        biggestVolume = 0\n",
    "        \n",
    "        while left < right: # true\n",
    "            distance = right - left # 8 7 6 5\n",
    "            minCommonHeight = min([height[left], height[right]]) # 1 7 3 8\n",
    "            volume = distance * minCommonHeight # 8 49 18 40\n",
    "            if volume > biggestVolume: # true true false false\n",
    "                biggestVolume = volume # 8 49\n",
    "            if height[left] > height[right]: # false true true false\n",
    "                right -= 1 #7 6\n",
    "            else:\n",
    "                left += 1 # 1 2\n",
    "        return biggestVolume"
   ]
  },
  {
   "cell_type": "code",
   "execution_count": null,
   "id": "12f824bc-5b68-4b5b-8800-8e68418cde20",
   "metadata": {},
   "outputs": [],
   "source": []
  }
 ],
 "metadata": {
  "kernelspec": {
   "display_name": "Python 3",
   "language": "python",
   "name": "python3"
  },
  "language_info": {
   "codemirror_mode": {
    "name": "ipython",
    "version": 3
   },
   "file_extension": ".py",
   "mimetype": "text/x-python",
   "name": "python",
   "nbconvert_exporter": "python",
   "pygments_lexer": "ipython3",
   "version": "3.7.10"
  }
 },
 "nbformat": 4,
 "nbformat_minor": 5
}
